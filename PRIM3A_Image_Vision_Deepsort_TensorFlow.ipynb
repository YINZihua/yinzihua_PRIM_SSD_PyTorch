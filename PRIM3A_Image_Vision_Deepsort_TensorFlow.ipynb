{
  "nbformat": 4,
  "nbformat_minor": 0,
  "metadata": {
    "colab": {
      "name": "PRIM3A-Image Vision-Deepsort-TensorFlow.ipynb",
      "provenance": [],
      "collapsed_sections": [],
      "authorship_tag": "ABX9TyMKEtfjH0ve3pl/OnQLL0z/",
      "include_colab_link": true
    },
    "kernelspec": {
      "name": "python3",
      "display_name": "Python 3"
    },
    "accelerator": "GPU"
  },
  "cells": [
    {
      "cell_type": "markdown",
      "metadata": {
        "id": "view-in-github",
        "colab_type": "text"
      },
      "source": [
        "<a href=\"https://colab.research.google.com/github/YINZihua/yinzihua_PRIM_SSD_PyTorch/blob/main/PRIM3A_Image_Vision_Deepsort_TensorFlow.ipynb\" target=\"_parent\"><img src=\"https://colab.research.google.com/assets/colab-badge.svg\" alt=\"Open In Colab\"/></a>"
      ]
    },
    {
      "cell_type": "markdown",
      "metadata": {
        "id": "kF8JsCjb0_bk"
      },
      "source": [
        "# Preparation for running Deepsort, cloned from official Deepsort Github repository"
      ]
    },
    {
      "cell_type": "code",
      "metadata": {
        "colab": {
          "base_uri": "https://localhost:8080/"
        },
        "id": "UdS30t5s0_Y4",
        "outputId": "4e96bae4-fd78-42e6-826d-ea452ce570c9"
      },
      "source": [
        "!git clone https://github.com/YINZihua/DeepSort_Component\n",
        "%cd DeepSort_Component"
      ],
      "execution_count": 2,
      "outputs": [
        {
          "output_type": "stream",
          "text": [
            "Cloning into 'DeepSort_Component'...\n",
            "remote: Enumerating objects: 46, done.\u001b[K\n",
            "remote: Counting objects: 100% (46/46), done.\u001b[K\n",
            "remote: Compressing objects: 100% (36/36), done.\u001b[K\n",
            "remote: Total 46 (delta 15), reused 39 (delta 8), pack-reused 0\u001b[K\n",
            "Unpacking objects: 100% (46/46), done.\n",
            "/content/DeepSort_Component\n"
          ],
          "name": "stdout"
        }
      ]
    },
    {
      "cell_type": "code",
      "metadata": {
        "colab": {
          "base_uri": "https://localhost:8080/"
        },
        "id": "ZL0zg1u89iW_",
        "outputId": "bb7a1624-4b26-45ec-eaaa-880773aa7a68"
      },
      "source": [
        "!pwd  # Colab: should be in the path \"/content/DeepSort_Component\""
      ],
      "execution_count": 3,
      "outputs": [
        {
          "output_type": "stream",
          "text": [
            "/content/DeepSort_Component\n"
          ],
          "name": "stdout"
        }
      ]
    },
    {
      "cell_type": "markdown",
      "metadata": {
        "id": "PYcZJl0BlHiS"
      },
      "source": [
        "Now download the SSD model pretrained by COCO dataset and the corresponding labels"
      ]
    },
    {
      "cell_type": "code",
      "metadata": {
        "colab": {
          "base_uri": "https://localhost:8080/"
        },
        "id": "6xrusB0tlHU2",
        "outputId": "401131bd-d331-4894-8af0-e6b07db1a29a"
      },
      "source": [
        "!wget https://raw.githubusercontent.com/tensorflow/models/master/research/object_detection/data/mscoco_label_map.pbtxt\n",
        "!wget http://download.tensorflow.org/models/object_detection/ssd_inception_v2_coco_2018_01_28.tar.gz\n",
        "\n",
        "!tar -xzf ssd_inception_v2_coco_2018_01_28.tar.gz\n",
        "!cp ssd_inception_v2_coco_2018_01_28/frozen_inference_graph.pb .\n",
        "!rm -r ssd_inception_v2_coco_2018_01_28/\n",
        "!rm ssd_inception_v2_coco_2018_01_28.tar.gz"
      ],
      "execution_count": 4,
      "outputs": [
        {
          "output_type": "stream",
          "text": [
            "--2021-01-09 21:39:13--  https://raw.githubusercontent.com/tensorflow/models/master/research/object_detection/data/mscoco_label_map.pbtxt\n",
            "Resolving raw.githubusercontent.com (raw.githubusercontent.com)... 151.101.0.133, 151.101.64.133, 151.101.128.133, ...\n",
            "Connecting to raw.githubusercontent.com (raw.githubusercontent.com)|151.101.0.133|:443... connected.\n",
            "HTTP request sent, awaiting response... 200 OK\n",
            "Length: 5056 (4.9K) [text/plain]\n",
            "Saving to: ‘mscoco_label_map.pbtxt’\n",
            "\n",
            "\rmscoco_label_map.pb   0%[                    ]       0  --.-KB/s               \rmscoco_label_map.pb 100%[===================>]   4.94K  --.-KB/s    in 0s      \n",
            "\n",
            "2021-01-09 21:39:13 (60.6 MB/s) - ‘mscoco_label_map.pbtxt’ saved [5056/5056]\n",
            "\n",
            "--2021-01-09 21:39:13--  http://download.tensorflow.org/models/object_detection/ssd_inception_v2_coco_2018_01_28.tar.gz\n",
            "Resolving download.tensorflow.org (download.tensorflow.org)... 142.250.73.208, 2607:f8b0:4004:829::2010\n",
            "Connecting to download.tensorflow.org (download.tensorflow.org)|142.250.73.208|:80... connected.\n",
            "HTTP request sent, awaiting response... 200 OK\n",
            "Length: 278114232 (265M) [application/x-tar]\n",
            "Saving to: ‘ssd_inception_v2_coco_2018_01_28.tar.gz’\n",
            "\n",
            "ssd_inception_v2_co 100%[===================>] 265.23M   280MB/s    in 0.9s    \n",
            "\n",
            "2021-01-09 21:39:14 (280 MB/s) - ‘ssd_inception_v2_coco_2018_01_28.tar.gz’ saved [278114232/278114232]\n",
            "\n"
          ],
          "name": "stdout"
        }
      ]
    },
    {
      "cell_type": "markdown",
      "metadata": {
        "id": "s1-0M3H8PLsr"
      },
      "source": [
        "Some more utility functions provided by TensorFlow Project could be useful"
      ]
    },
    {
      "cell_type": "code",
      "metadata": {
        "colab": {
          "base_uri": "https://localhost:8080/"
        },
        "id": "NWqyfF4BPa_H",
        "outputId": "92d1d455-68a7-4f65-bcad-23b52a4ad5d5"
      },
      "source": [
        "!wget https://raw.githubusercontent.com/tensorflow/models/master/research/object_detection/utils/label_map_util.py -P external/object_detection/utils/\n",
        "!wget https://raw.githubusercontent.com/tensorflow/models/master/research/object_detection/protos/string_int_label_map.proto -P external/object_detection/protos"
      ],
      "execution_count": 5,
      "outputs": [
        {
          "output_type": "stream",
          "text": [
            "--2021-01-09 21:39:19--  https://raw.githubusercontent.com/tensorflow/models/master/research/object_detection/utils/label_map_util.py\n",
            "Resolving raw.githubusercontent.com (raw.githubusercontent.com)... 151.101.0.133, 151.101.64.133, 151.101.128.133, ...\n",
            "Connecting to raw.githubusercontent.com (raw.githubusercontent.com)|151.101.0.133|:443... connected.\n",
            "HTTP request sent, awaiting response... 200 OK\n",
            "Length: 12318 (12K) [text/plain]\n",
            "Saving to: ‘external/object_detection/utils/label_map_util.py’\n",
            "\n",
            "\rlabel_map_util.py     0%[                    ]       0  --.-KB/s               \rlabel_map_util.py   100%[===================>]  12.03K  --.-KB/s    in 0s      \n",
            "\n",
            "2021-01-09 21:39:19 (113 MB/s) - ‘external/object_detection/utils/label_map_util.py’ saved [12318/12318]\n",
            "\n",
            "--2021-01-09 21:39:19--  https://raw.githubusercontent.com/tensorflow/models/master/research/object_detection/protos/string_int_label_map.proto\n",
            "Resolving raw.githubusercontent.com (raw.githubusercontent.com)... 151.101.0.133, 151.101.64.133, 151.101.128.133, ...\n",
            "Connecting to raw.githubusercontent.com (raw.githubusercontent.com)|151.101.0.133|:443... connected.\n",
            "HTTP request sent, awaiting response... 200 OK\n",
            "Length: 1802 (1.8K) [text/plain]\n",
            "Saving to: ‘external/object_detection/protos/string_int_label_map.proto’\n",
            "\n",
            "string_int_label_ma 100%[===================>]   1.76K  --.-KB/s    in 0s      \n",
            "\n",
            "2021-01-09 21:39:19 (42.6 MB/s) - ‘external/object_detection/protos/string_int_label_map.proto’ saved [1802/1802]\n",
            "\n"
          ],
          "name": "stdout"
        }
      ]
    },
    {
      "cell_type": "markdown",
      "metadata": {
        "id": "EfmTsEhRD3yD"
      },
      "source": [
        "Download a surveillance video dataset provided by EPFL "
      ]
    },
    {
      "cell_type": "code",
      "metadata": {
        "colab": {
          "base_uri": "https://localhost:8080/"
        },
        "id": "5cyrgAz0D3mG",
        "outputId": "6fd15824-c3f0-4fdc-af55-e3f8d55d68ff"
      },
      "source": [
        "from google_drive_downloader import GoogleDriveDownloader as gdd\n",
        "gdd.download_file_from_google_drive(file_id='1M9t7FBfGvpCZmfEOVN52qJUA9x1JVQDx', dest_path='./video_examples.zip')\n",
        "!unzip -qq video_examples.zip \n",
        "!rm video_examples.zip\n",
        "!mkdir video_output"
      ],
      "execution_count": 6,
      "outputs": [
        {
          "output_type": "stream",
          "text": [
            "Downloading 1M9t7FBfGvpCZmfEOVN52qJUA9x1JVQDx into ./video_examples.zip... Done.\n"
          ],
          "name": "stdout"
        }
      ]
    },
    {
      "cell_type": "markdown",
      "metadata": {
        "id": "sfMdSNto_uO9"
      },
      "source": [
        "# Establish a multi-camera people tracking applicaiton"
      ]
    },
    {
      "cell_type": "markdown",
      "metadata": {
        "id": "pnQ4fUVo_82p"
      },
      "source": [
        "## Import the necessary packages"
      ]
    },
    {
      "cell_type": "code",
      "metadata": {
        "id": "Ox0bw4T_0_TT"
      },
      "source": [
        "from __future__ import division, print_function, absolute_import\n",
        "\n",
        "import argparse\n",
        "import os\n",
        "\n",
        "import cv2\n",
        "import numpy as np\n",
        "\n",
        "import tensorflow as tf\n",
        "\n",
        "from application_util import preprocessing\n",
        "from deep_sort import nn_matching\n",
        "from deep_sort.detection import Detection\n",
        "from deep_sort.tracker import Tracker\n",
        "\n",
        "from time import time \n",
        "import matplotlib.pyplot as plt\n"
      ],
      "execution_count": 7,
      "outputs": []
    },
    {
      "cell_type": "code",
      "metadata": {
        "colab": {
          "base_uri": "https://localhost:8080/"
        },
        "id": "sNAgQ32ufxk3",
        "outputId": "69731725-a3a8-4106-fde9-0f95b667e9b2"
      },
      "source": [
        "print('using Tensorflow version@'+str(tf.__version__))  # version@2.4.0 on Colab"
      ],
      "execution_count": 8,
      "outputs": [
        {
          "output_type": "stream",
          "text": [
            "using Tensorflow version@2.4.0\n"
          ],
          "name": "stdout"
        }
      ]
    },
    {
      "cell_type": "markdown",
      "metadata": {
        "id": "uTGLWJyjACub"
      },
      "source": [
        "## Define the format of detections"
      ]
    },
    {
      "cell_type": "code",
      "metadata": {
        "id": "OEeQYOOmACaP"
      },
      "source": [
        "class outputDetectionData():\n",
        "  def __init__(self):\n",
        "    self.bbox = np.asarray([])\n",
        "    self.score_thresh = ()\n",
        "    self.confidence = np.asarray([])\n",
        "    self.classes = np.asarray([])\n",
        "    self.category_box = ()"
      ],
      "execution_count": 9,
      "outputs": []
    },
    {
      "cell_type": "markdown",
      "metadata": {
        "id": "nr4mkplrCOh2"
      },
      "source": [
        "## Define the class of SSD prediction by tensorflow"
      ]
    },
    {
      "cell_type": "code",
      "metadata": {
        "id": "5C-oyegUCOd-"
      },
      "source": [
        "class ssdPredictor():\n",
        "  def __init__(self,\n",
        "          model_path,\n",
        "          label_path,\n",
        "          score_thresh,\n",
        "          ):\n",
        "    self.score_thresh = score_thresh\n",
        "    self.graph, self.sess = self.load_model(model_path)\n",
        "    \n",
        "    try:\n",
        "      self.category_index, self.NUM_CLASSES = self.get_label_map(label_path)\n",
        "    except: \n",
        "      self.category_index = None\n",
        "      self.NUM_CLASSES = None\n",
        "      print('Error: problem with label file path')\n",
        "\n",
        "\n",
        "    [self.image_tensor, self.boxes_tensor,\n",
        "     self.scores_tensor, self.classes_tensor,\n",
        "     self.num_detections_tensor] = self.getTensors()\n",
        "\n",
        "    self.output_data = outputDetectionData()\n",
        "    self.output_data.score_thresh = score_thresh\n",
        "    self.output_data.category_index = self.category_index\n",
        "\n",
        "\n",
        "  def load_model(self,model_path):\n",
        "    print('Loading Model File From: ' + model_path)\n",
        "\n",
        "    def get_graph(PATH_TO_MODEL):\n",
        "      detection_graph = tf.Graph() \n",
        "      # tf.function() is recommanded to replace tf.Graph() (some deprecated functionalities should be used)\n",
        "      with detection_graph.as_default():\n",
        "        od_graph_def = tf.compat.v1.GraphDef()\n",
        "        with tf.io.gfile.GFile(PATH_TO_MODEL,'rb') as f:\n",
        "          serialized_graph = f.read()\n",
        "          od_graph_def.ParseFromString(serialized_graph)\n",
        "          tf.import_graph_def(od_graph_def,name='')\n",
        "          return detection_graph\n",
        "    \n",
        "    def load_graph_with_sess(PATH_TO_MODEL):\n",
        "      graph = get_graph(PATH_TO_MODEL)\n",
        "      sess = tf.compat.v1.Session(graph=graph)\n",
        "      return graph,sess\n",
        "    \n",
        "    [graph,sess] = load_graph_with_sess(model_path)\n",
        "    print('Finished Loading Model')\n",
        "    return graph,sess\n",
        "\n",
        "  def get_label_map(self, labels_path):\n",
        "    with open(labels_path, \"r\") as f:\n",
        "        file_content = f.read()\n",
        "\n",
        "    data = file_content.split('item')\n",
        "    output_data = {}\n",
        "    num_classes = 0\n",
        "    for indx, x in enumerate(data):\n",
        "        if len(x) == 0:\n",
        "            continue\n",
        "        name = x.split('name:')[1].split('\\n')[0].strip().replace('\"','')\n",
        "        _id = x.split('id:')[1].split('\\n')[0].strip()\n",
        "        display_name = x.split('display_name:')[1].split('\\n')[0].strip().replace('\"','')\n",
        "        output_data[indx] = {\n",
        "            'name':display_name,\n",
        "            'id':_id,\n",
        "            'display_name':name\n",
        "        }\n",
        "        num_classes += 1\n",
        "    category_index = output_data\n",
        "    return category_index, num_classes\n",
        "\n",
        "  def getTensors(self):\n",
        "    image_tensor = self.graph.get_tensor_by_name('image_tensor:0')\n",
        "    # Each box represents a part of the image where a particular object was\n",
        "    # detected.\n",
        "    boxes = self.graph.get_tensor_by_name('detection_boxes:0')\n",
        "    # Each score represent how level of confidence for each of the objects.\n",
        "    # Score is shown on the result image, together with the class label.\n",
        "    scores = self.graph.get_tensor_by_name('detection_scores:0')\n",
        "    classes = self.graph.get_tensor_by_name('detection_classes:0')\n",
        "    num_detections = self.graph.get_tensor_by_name('num_detections:0')\n",
        "    return [image_tensor, boxes, scores, classes, num_detections]\n",
        "\n",
        "\n",
        "  def predict(self, image_np):\n",
        "    # Actual detection.\n",
        "    with self.sess.as_default(), self.graph.as_default():\n",
        "      [boxes,scores,classes,temp_num_detections] = self.inferNN(image_np)\n",
        "      boxes = np.squeeze(boxes)\n",
        "      scores = np.squeeze(scores)\n",
        "      classes = np.squeeze(classes)\n",
        "      # Eliminate all values that do not meet the threshold.\n",
        "      indices = [i for i, x in enumerate(scores > self.output_data.score_thresh) if x]\n",
        "      scores = scores[indices]\n",
        "      classes = classes[indices]\n",
        "      boxes = boxes[indices]\n",
        "\n",
        "      self.output_data.bbox = boxes\n",
        "      self.output_data.scores = scores\n",
        "      self.output_data.classes = classes\n",
        "      # For now, we simply pass a reference to the image. We will use\n",
        "      # this for predicting on the subset.\n",
        "      self.output_data.img = image_np\n",
        "      if self.output_data.bbox == ():\n",
        "        self.output_data.bbox = np.asarray([])\n",
        "    return self.output_data\n",
        "\n",
        "  def inferNN(self, image_np):\n",
        "    '''\n",
        "    Perform inference on the image\n",
        "    '''\n",
        "    # Expand dimensions since the model expects images to have shape: [1, None, None, 3] ??? Where could I find this information\n",
        "    image_np_expanded = np.expand_dims(image_np, axis=0)\n",
        "    [boxes, scores, classes, temp_num_detections] = self.sess.run([self.boxes_tensor, self.scores_tensor,\n",
        "                                      self.classes_tensor, self.num_detections_tensor],\n",
        "                                      feed_dict = {self.image_tensor: image_np_expanded}\n",
        "                                      )\n",
        "    return [boxes, scores, classes, temp_num_detections]\n",
        "\n"
      ],
      "execution_count": 10,
      "outputs": []
    },
    {
      "cell_type": "markdown",
      "metadata": {
        "id": "9lFzfolT0_Qd"
      },
      "source": [
        "## Define the class used for the DeepSort tracking processing"
      ]
    },
    {
      "cell_type": "code",
      "metadata": {
        "id": "XUDAEeTb0_Np"
      },
      "source": [
        "class DeepSort():\n",
        "  def __init__(self,\n",
        "         min_confidence=0.8,\n",
        "         nms_max_overlap=1.0,\n",
        "         min_detection_height=0.0,\n",
        "         max_cosine_distance=0.2,\n",
        "         nn_budget=None,\n",
        "         max_age=5):\n",
        "    self.min_confidence = min_confidence\n",
        "    self.nms_max_overlap = nms_max_overlap\n",
        "    self.min_detection_height = min_detection_height\n",
        "    self.max_cosine_distance = max_cosine_distance\n",
        "    self.nn_budget = nn_budget\n",
        "\n",
        "    self.metric = nn_matching.NearestNeighborDistanceMetric(\"cosine\", self.max_cosine_distance,self.nn_budget)\n",
        "    self.tracker = Tracker(self.metric,max_age)\n",
        "\n",
        "  def apply(self,frame,tracking):\n",
        "    hFrame,wFrame,_=frame.shape\n",
        "    detections=[]\n",
        "    \n",
        "\n",
        "    for box, score in zip(tracking.bbox,tracking.scores):\n",
        "      detections.append(Detection(box,score,frame)) \n",
        "    \n",
        "    detections = [d for d in detections if d.confidence >= self.min_confidence]\n",
        "\n",
        "    # Run non-maxima suppression.\n",
        "    boxes = np.array([d.tlwh for d in detections])\n",
        "    scores = np.array([d.confidence for d in detections])\n",
        "    indices = preprocessing.non_max_suppression(boxes, self.nms_max_overlap, scores)\n",
        "    detections = [detections[i] for i in indices]\n",
        "\n",
        "    # Update tracker\n",
        "    self.tracker.predict()\n",
        "    self.tracker.update(detections)\n",
        "\n",
        "    # Count the number of confirmed trackers that we will output to the system\n",
        "    track_count = 0\n",
        "    # The first time we loop, we just count the number of confirmed trackers\n",
        "    for track in self.tracker.tracks:\n",
        "        #if not track.is_confirmed() or track.time_since_update > 1:\n",
        "        #    continue\n",
        "        track_count +=1\n",
        "    tracking.tracker_ids = np.zeros(shape=(track_count))\n",
        "    tracking.tracked_bbox = np.zeros(shape=(track_count,4))\n",
        "    # The second time we loop, we store them\n",
        "    idx = 0\n",
        "    for track in self.tracker.tracks:\n",
        "      if not track.is_confirmed() or track.time_since_update > 1:\n",
        "          continue\n",
        "      bbox = track.to_tlbr_norm(wFrame, hFrame) \n",
        "      track_id = track.track_id\n",
        "      tracking.tracked_bbox[idx] = bbox\n",
        "      tracking.tracker_ids[idx] = track_id\n",
        "            \n",
        "      idx += 1\n",
        "    \n",
        "    return tracking\n",
        "\n"
      ],
      "execution_count": 11,
      "outputs": []
    },
    {
      "cell_type": "markdown",
      "metadata": {
        "id": "a55Z2Uqe1AvD"
      },
      "source": [
        "## Define the functionality for drawing the detection boxes"
      ]
    },
    {
      "cell_type": "code",
      "metadata": {
        "id": "t2nX9S_k1Arf"
      },
      "source": [
        "def drawTrackedBoxes(frame,tracking):\n",
        "  hFrame,wFrame,_ = frame.shape\n",
        "  for id, bbox in zip(tracking.tracker_ids,tracking.tracked_bbox):\n",
        "    cv2.rectangle(frame,(int(bbox[0] * wFrame), int(bbox[1] * hFrame)),\n",
        "              (int(bbox[2] * wFrame), int(bbox[3] * hFrame)),\n",
        "              (0, 0, 255), 5)\n",
        "    cv2.putText(frame, \"ID:\"+str(id),\n",
        "          (int(bbox[0] * wFrame), int(bbox[1] * hFrame + 50)),\n",
        "          cv2.FONT_HERSHEY_SIMPLEX, 1, (255, 255, 255), 2)\n",
        "  return frame\n",
        "\n",
        "def drawBoxes(frame,tracking):\n",
        "  if tracking.bbox.size > 0:\n",
        "    frame_with_tracking = drawTrackedBoxes(frame,tracking)\n",
        "  return frame_with_tracking"
      ],
      "execution_count": 13,
      "outputs": []
    },
    {
      "cell_type": "markdown",
      "metadata": {
        "id": "tYpuToss1A4a"
      },
      "source": [
        "Now we could run a tracking session over several video examples.\n",
        "<br>\n",
        "<br> \n",
        "\n",
        "## Firstly, set the path names"
      ]
    },
    {
      "cell_type": "code",
      "metadata": {
        "id": "yrligHrg65Bc"
      },
      "source": [
        "inputFileName = 'video_examples/4p-c0.avi'\n",
        "outputFileName = 'video_output/output.avi'\n",
        "ssdModelPath = 'frozen_inference_graph.pb'\n",
        "ssdLabelPath = 'mscoco_label_map.pbtxt'\n",
        "score_thresh = .5"
      ],
      "execution_count": 14,
      "outputs": []
    },
    {
      "cell_type": "markdown",
      "metadata": {
        "id": "KQfWSUBT1hYU"
      },
      "source": [
        "## Then, run the SSD detector + DeepSort tracker over the video samples."
      ]
    },
    {
      "cell_type": "code",
      "metadata": {
        "id": "7uvl4J2E0_CC",
        "colab": {
          "base_uri": "https://localhost:8080/"
        },
        "outputId": "7d579660-61e8-488c-90ce-fc8f37a0658b"
      },
      "source": [
        "from time import time\n",
        "cap = cv2.VideoCapture(inputFileName)\n",
        "predictor = ssdPredictor(model_path=ssdModelPath, label_path=ssdLabelPath,score_thresh=score_thresh)\n",
        "tracker = DeepSort()\n",
        "\n",
        "# take the first frame of the video\n",
        "ret, frame = cap.read()\n",
        "hFrame,wFrame,_ = frame.shape\n",
        "\n",
        "# apply the tracking over several videos\n",
        "outputVideo = cv2.VideoWriter(outputFileName,cv2.VideoWriter_fourcc(*\"MJPG\"),30,(wFrame,hFrame))\n",
        "cpt = 0\n",
        "timesteps = [time()]\n",
        "while True:\n",
        "  print('\\rcpt={}'.format(cpt),end='')\n",
        "  ret, frame = cap.read()\n",
        "  if ret == True:\n",
        "    frameRGB = frame.copy()[:,:,::-1]\n",
        "    tracking = predictor.predict(frameRGB)\n",
        "    tracking = tracker.apply(frame=frame,tracking=tracking)\n",
        "    trackResult = drawBoxes(frame=frame,tracking=tracking)\n",
        "    outputVideo.write(trackResult)\n",
        "    cpt += 1\n",
        "\n",
        "  else:\n",
        "    break\n",
        "  timesteps.append(time())\n",
        "\n",
        "cap.release()\n",
        "outputVideo.release()"
      ],
      "execution_count": 15,
      "outputs": [
        {
          "output_type": "stream",
          "text": [
            "Loading Model File From: frozen_inference_graph.pb\n",
            "Finished Loading Model\n",
            "cpt=0"
          ],
          "name": "stdout"
        },
        {
          "output_type": "stream",
          "text": [
            "/usr/local/lib/python3.6/dist-packages/ipykernel_launcher.py:104: DeprecationWarning: elementwise comparison failed; this will raise an error in the future.\n"
          ],
          "name": "stderr"
        },
        {
          "output_type": "stream",
          "text": [
            "cpt=3914"
          ],
          "name": "stdout"
        }
      ]
    },
    {
      "cell_type": "markdown",
      "metadata": {
        "id": "pU99xyOq11qH"
      },
      "source": [
        "## Illustrate the performance of the architecture"
      ]
    },
    {
      "cell_type": "code",
      "metadata": {
        "colab": {
          "base_uri": "https://localhost:8080/",
          "height": 312
        },
        "id": "pExMZuavI-KQ",
        "outputId": "60e2fa3f-3419-4642-c768-c063e355ab6a"
      },
      "source": [
        "import matplotlib.pyplot as plt\n",
        "\n",
        "timess = np.array(timesteps[1:]) - np.array(timesteps[:-1]) \n",
        "print('the average processing period is {:.5} millisec, which represents {:.4} FPS in average'.format(\n",
        "                            1e3*np.mean(timess[1:]),\n",
        "                            1/np.mean(timess[1:])))\n",
        "plt.plot(timess[1:])\n",
        "plt.xlabel('frame steps')\n",
        "plt.ylabel('processing duration/frame')\n",
        "plt.title('Performance of SSD + DeepSort')\n",
        "plt.grid()"
      ],
      "execution_count": 18,
      "outputs": [
        {
          "output_type": "stream",
          "text": [
            "the average processing period is 70.436 millisec, which represents 14.2 FPS in average\n"
          ],
          "name": "stdout"
        },
        {
          "output_type": "display_data",
          "data": {
            "image/png": "[encoded data removed]",
            "text/plain": [
              "<Figure size 432x288 with 1 Axes>"
            ]
          },
          "metadata": {
            "tags": [],
            "needs_background": "light"
          }
        }
      ]
    },
    {
      "cell_type": "markdown",
      "metadata": {
        "id": "iq789GLutTPO"
      },
      "source": [
        "When using only CPU unit on Colab, the performance is **4.855 FPS** in average.  <br>\n",
        "When using GPU unit on Colab, the performance is **14.2 FPS** in average. <br>\n",
        "When using machine in Telecom Paris (CPU Intel i7-8700 @ 3.2GHz with GPU Intel HD Graphics 630), the performance is **22.3 FPS** in average."
      ]
    },
    {
      "cell_type": "code",
      "metadata": {
        "id": "wsTkRDZVzuwv"
      },
      "source": [
        ""
      ],
      "execution_count": null,
      "outputs": []
    }
  ]
}